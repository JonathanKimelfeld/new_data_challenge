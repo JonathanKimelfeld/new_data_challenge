{
 "cells": [
  {
   "cell_type": "code",
   "execution_count": 16,
   "outputs": [],
   "source": [
    "import pandas as pd\n",
    "import numpy as np"
   ],
   "metadata": {
    "collapsed": false,
    "pycharm": {
     "name": "#%%\n"
    }
   }
  },
  {
   "cell_type": "code",
   "execution_count": 17,
   "metadata": {
    "collapsed": true
   },
   "outputs": [],
   "source": [
    "def merge_data_frames(original_set, test_sets, labels):\n",
    "    frames = []\n",
    "    main = pd.read_csv(original_set)\n",
    "    main['cancellation_datetime'] = pd.to_datetime(main['cancellation_datetime'])\n",
    "    main['cancellation_datetime'] = main['cancellation_datetime'].fillna(0)\n",
    "    main[\"cancelled\"] = np.where(main[\"cancellation_datetime\"] != 0, 1, 0)\n",
    "    frames.append(main)\n",
    "    for i in range(len(labels)):\n",
    "        test_set = pd.read_csv(test_sets[i])\n",
    "        label_df = pd.read_csv(labels[i])\n",
    "        test_set[\"cancelled\"] = label_df['cancel'].astype(int)\n",
    "        frames.append(test_set)\n",
    "    return pd.concat(frames)\n",
    "\n",
    "local = \"/Users/mayagoldman/PycharmProjects/new_data_challenge/\"\n",
    "original = \"/Users/mayagoldman/PycharmProjects/new_data_challenge/data/agoda_cancellation_train.csv\"\n",
    "test_sets = [local + \"data/Weekly test set/week_1_test_data.csv\" , local + \"data/Weekly test set/week_2_test_data.csv\" , local + \"data/Weekly test set/week_3_test_data.csv\" , local + \"data/Weekly test set/week_4_test_data.csv\" , local + \"data/Weekly test set/week_5_test_data.csv\"]\n",
    "labels = [local+\"data/Labels/week_1_labels.csv\" , local+\"data/Labels/week_2_labels.csv\" , local+\"data/Labels/week_3_labels.csv\" , local+\"data/Labels/week_4_labels.csv\" , local+\"data/Labels/week_5_labels.csv\"]\n",
    "df = merge_data_frames( original, test_sets , labels)"
   ]
  },
  {
   "cell_type": "code",
   "execution_count": 18,
   "outputs": [
    {
     "data": {
      "text/plain": "          h_booking_id     booking_datetime         checkin_date  \\\n0 -9223194055642672935  2018-06-28 21:15:00  2018-07-09 00:00:00   \n1 -9222713784330706132  2018-08-10 22:31:00  2018-08-16 00:00:00   \n2 -9222411208325704942  2018-09-14 07:55:00  2018-09-14 00:00:00   \n3 -9222220845872895471  2018-06-25 07:33:00  2018-07-02 00:00:00   \n4 -9221127186162682116  2018-07-23 10:06:00  2018-08-09 00:00:00   \n\n         checkout_date  hotel_id hotel_country_code      hotel_live_date  \\\n0  2018-07-13 00:00:00      6452                 HK  2009-06-28 02:02:00   \n1  2018-08-17 00:00:00     47729                 CN  2011-06-07 11:52:00   \n2  2018-09-15 00:00:00    780431                 KR  2014-11-20 15:43:00   \n3  2018-07-03 00:00:00    291365                 JP  2011-11-21 12:27:00   \n4  2018-08-10 00:00:00    479046                 TH  2013-06-06 10:04:00   \n\n   hotel_star_rating accommadation_type_name charge_option  ...  \\\n0                4.0                   Hotel       Pay Now  ...   \n1                4.0                   Hotel     Pay Later  ...   \n2                4.0                   Hotel       Pay Now  ...   \n3                3.0                   Hotel     Pay Later  ...   \n4                3.0                  Resort     Pay Later  ...   \n\n   request_largebed request_twinbeds  request_airport request_earlycheckin  \\\n0               NaN              NaN              NaN                  NaN   \n1               0.0              1.0              0.0                  0.0   \n2               0.0              0.0              0.0                  0.0   \n3               1.0              0.0              0.0                  0.0   \n4               1.0              0.0              0.0                  0.0   \n\n   cancellation_datetime  hotel_area_code  hotel_brand_code  hotel_chain_code  \\\n0                      0             1192               NaN               NaN   \n1                      0             5617             902.0             600.0   \n2                      0             3819               NaN               NaN   \n3                      0             2379             466.0             236.0   \n4    2018-07-23 00:00:00             1506               NaN               NaN   \n\n  hotel_city_code cancelled  \n0             142         0  \n1            1273         0  \n2            2799         0  \n3            1448         0  \n4             616         1  \n\n[5 rows x 40 columns]",
      "text/html": "<div>\n<style scoped>\n    .dataframe tbody tr th:only-of-type {\n        vertical-align: middle;\n    }\n\n    .dataframe tbody tr th {\n        vertical-align: top;\n    }\n\n    .dataframe thead th {\n        text-align: right;\n    }\n</style>\n<table border=\"1\" class=\"dataframe\">\n  <thead>\n    <tr style=\"text-align: right;\">\n      <th></th>\n      <th>h_booking_id</th>\n      <th>booking_datetime</th>\n      <th>checkin_date</th>\n      <th>checkout_date</th>\n      <th>hotel_id</th>\n      <th>hotel_country_code</th>\n      <th>hotel_live_date</th>\n      <th>hotel_star_rating</th>\n      <th>accommadation_type_name</th>\n      <th>charge_option</th>\n      <th>...</th>\n      <th>request_largebed</th>\n      <th>request_twinbeds</th>\n      <th>request_airport</th>\n      <th>request_earlycheckin</th>\n      <th>cancellation_datetime</th>\n      <th>hotel_area_code</th>\n      <th>hotel_brand_code</th>\n      <th>hotel_chain_code</th>\n      <th>hotel_city_code</th>\n      <th>cancelled</th>\n    </tr>\n  </thead>\n  <tbody>\n    <tr>\n      <th>0</th>\n      <td>-9223194055642672935</td>\n      <td>2018-06-28 21:15:00</td>\n      <td>2018-07-09 00:00:00</td>\n      <td>2018-07-13 00:00:00</td>\n      <td>6452</td>\n      <td>HK</td>\n      <td>2009-06-28 02:02:00</td>\n      <td>4.0</td>\n      <td>Hotel</td>\n      <td>Pay Now</td>\n      <td>...</td>\n      <td>NaN</td>\n      <td>NaN</td>\n      <td>NaN</td>\n      <td>NaN</td>\n      <td>0</td>\n      <td>1192</td>\n      <td>NaN</td>\n      <td>NaN</td>\n      <td>142</td>\n      <td>0</td>\n    </tr>\n    <tr>\n      <th>1</th>\n      <td>-9222713784330706132</td>\n      <td>2018-08-10 22:31:00</td>\n      <td>2018-08-16 00:00:00</td>\n      <td>2018-08-17 00:00:00</td>\n      <td>47729</td>\n      <td>CN</td>\n      <td>2011-06-07 11:52:00</td>\n      <td>4.0</td>\n      <td>Hotel</td>\n      <td>Pay Later</td>\n      <td>...</td>\n      <td>0.0</td>\n      <td>1.0</td>\n      <td>0.0</td>\n      <td>0.0</td>\n      <td>0</td>\n      <td>5617</td>\n      <td>902.0</td>\n      <td>600.0</td>\n      <td>1273</td>\n      <td>0</td>\n    </tr>\n    <tr>\n      <th>2</th>\n      <td>-9222411208325704942</td>\n      <td>2018-09-14 07:55:00</td>\n      <td>2018-09-14 00:00:00</td>\n      <td>2018-09-15 00:00:00</td>\n      <td>780431</td>\n      <td>KR</td>\n      <td>2014-11-20 15:43:00</td>\n      <td>4.0</td>\n      <td>Hotel</td>\n      <td>Pay Now</td>\n      <td>...</td>\n      <td>0.0</td>\n      <td>0.0</td>\n      <td>0.0</td>\n      <td>0.0</td>\n      <td>0</td>\n      <td>3819</td>\n      <td>NaN</td>\n      <td>NaN</td>\n      <td>2799</td>\n      <td>0</td>\n    </tr>\n    <tr>\n      <th>3</th>\n      <td>-9222220845872895471</td>\n      <td>2018-06-25 07:33:00</td>\n      <td>2018-07-02 00:00:00</td>\n      <td>2018-07-03 00:00:00</td>\n      <td>291365</td>\n      <td>JP</td>\n      <td>2011-11-21 12:27:00</td>\n      <td>3.0</td>\n      <td>Hotel</td>\n      <td>Pay Later</td>\n      <td>...</td>\n      <td>1.0</td>\n      <td>0.0</td>\n      <td>0.0</td>\n      <td>0.0</td>\n      <td>0</td>\n      <td>2379</td>\n      <td>466.0</td>\n      <td>236.0</td>\n      <td>1448</td>\n      <td>0</td>\n    </tr>\n    <tr>\n      <th>4</th>\n      <td>-9221127186162682116</td>\n      <td>2018-07-23 10:06:00</td>\n      <td>2018-08-09 00:00:00</td>\n      <td>2018-08-10 00:00:00</td>\n      <td>479046</td>\n      <td>TH</td>\n      <td>2013-06-06 10:04:00</td>\n      <td>3.0</td>\n      <td>Resort</td>\n      <td>Pay Later</td>\n      <td>...</td>\n      <td>1.0</td>\n      <td>0.0</td>\n      <td>0.0</td>\n      <td>0.0</td>\n      <td>2018-07-23 00:00:00</td>\n      <td>1506</td>\n      <td>NaN</td>\n      <td>NaN</td>\n      <td>616</td>\n      <td>1</td>\n    </tr>\n  </tbody>\n</table>\n<p>5 rows × 40 columns</p>\n</div>"
     },
     "execution_count": 18,
     "metadata": {},
     "output_type": "execute_result"
    }
   ],
   "source": [
    "\n",
    "df.head()"
   ],
   "metadata": {
    "collapsed": false,
    "pycharm": {
     "name": "#%%\n"
    }
   }
  },
  {
   "cell_type": "code",
   "execution_count": 19,
   "outputs": [
    {
     "data": {
      "text/plain": "       h_booking_id      hotel_id  hotel_star_rating  h_customer_id  \\\ncount  6.215900e+04  6.215900e+04       62159.000000   6.215900e+04   \nmean  -3.030068e+17  1.356420e+06           3.226154   4.507414e+18   \nstd    5.337799e+18  1.377429e+06           1.171148   2.805723e+18   \nmin   -9.223194e+18  1.000000e+00          -1.000000  -9.096408e+18   \n25%   -4.923267e+18  2.562170e+05           3.000000   2.221377e+18   \n50%   -5.896088e+17  8.097590e+05           3.000000   4.522951e+18   \n75%    4.311517e+18  2.318505e+06           4.000000   6.873213e+18   \nmax    9.223338e+18  6.165986e+06           5.000000   9.223335e+18   \n\n       guest_is_not_the_customer  no_of_adults  no_of_children  \\\ncount               62159.000000  62159.000000    62159.000000   \nmean                    0.213613      2.361444        0.152335   \nstd                     0.409860      1.346441        0.538139   \nmin                     0.000000      1.000000        0.000000   \n25%                     0.000000      2.000000        0.000000   \n50%                     0.000000      2.000000        0.000000   \n75%                     0.000000      2.000000        0.000000   \nmax                     1.000000     38.000000       10.000000   \n\n       no_of_extra_bed    no_of_room  original_selling_amount  ...  \\\ncount     62159.000000  62159.000000             62159.000000  ...   \nmean          0.011792      1.144340               225.205146  ...   \nstd           0.118331      0.525562               454.173650  ...   \nmin           0.000000      1.000000                 2.100000  ...   \n25%           0.000000      1.000000                51.915000  ...   \n50%           0.000000      1.000000               111.350000  ...   \n75%           0.000000      1.000000               250.290000  ...   \nmax           5.000000      9.000000             49566.160000  ...   \n\n       request_highfloor  request_largebed  request_twinbeds  request_airport  \\\ncount       36471.000000      36471.000000      36471.000000     36471.000000   \nmean            0.149818          0.396918          0.165913         0.006882   \nstd             0.356897          0.489265          0.372007         0.082674   \nmin             0.000000          0.000000          0.000000         0.000000   \n25%             0.000000          0.000000          0.000000         0.000000   \n50%             0.000000          0.000000          0.000000         0.000000   \n75%             0.000000          1.000000          0.000000         0.000000   \nmax             1.000000          1.000000          1.000000         1.000000   \n\n       request_earlycheckin  hotel_area_code  hotel_brand_code  \\\ncount          36471.000000     62159.000000      16353.000000   \nmean               0.033095      3023.574446        478.448725   \nstd                0.178887      1734.202611        277.855160   \nmin                0.000000         0.000000          0.000000   \n25%                0.000000      1469.000000        253.000000   \n50%                0.000000      3134.000000        480.000000   \n75%                0.000000      4568.000000        739.000000   \nmax                1.000000      5896.000000        937.000000   \n\n       hotel_chain_code  hotel_city_code     cancelled  \ncount      16829.000000     62159.000000  62159.000000  \nmean         357.088716      1498.912225      0.255265  \nstd          209.561400       906.683032      0.436013  \nmin            0.000000         0.000000      0.000000  \n25%          181.000000       608.000000      0.000000  \n50%          355.000000      1572.000000      0.000000  \n75%          577.000000      2310.000000      1.000000  \nmax          681.000000      2809.000000      1.000000  \n\n[8 rows x 22 columns]",
      "text/html": "<div>\n<style scoped>\n    .dataframe tbody tr th:only-of-type {\n        vertical-align: middle;\n    }\n\n    .dataframe tbody tr th {\n        vertical-align: top;\n    }\n\n    .dataframe thead th {\n        text-align: right;\n    }\n</style>\n<table border=\"1\" class=\"dataframe\">\n  <thead>\n    <tr style=\"text-align: right;\">\n      <th></th>\n      <th>h_booking_id</th>\n      <th>hotel_id</th>\n      <th>hotel_star_rating</th>\n      <th>h_customer_id</th>\n      <th>guest_is_not_the_customer</th>\n      <th>no_of_adults</th>\n      <th>no_of_children</th>\n      <th>no_of_extra_bed</th>\n      <th>no_of_room</th>\n      <th>original_selling_amount</th>\n      <th>...</th>\n      <th>request_highfloor</th>\n      <th>request_largebed</th>\n      <th>request_twinbeds</th>\n      <th>request_airport</th>\n      <th>request_earlycheckin</th>\n      <th>hotel_area_code</th>\n      <th>hotel_brand_code</th>\n      <th>hotel_chain_code</th>\n      <th>hotel_city_code</th>\n      <th>cancelled</th>\n    </tr>\n  </thead>\n  <tbody>\n    <tr>\n      <th>count</th>\n      <td>6.215900e+04</td>\n      <td>6.215900e+04</td>\n      <td>62159.000000</td>\n      <td>6.215900e+04</td>\n      <td>62159.000000</td>\n      <td>62159.000000</td>\n      <td>62159.000000</td>\n      <td>62159.000000</td>\n      <td>62159.000000</td>\n      <td>62159.000000</td>\n      <td>...</td>\n      <td>36471.000000</td>\n      <td>36471.000000</td>\n      <td>36471.000000</td>\n      <td>36471.000000</td>\n      <td>36471.000000</td>\n      <td>62159.000000</td>\n      <td>16353.000000</td>\n      <td>16829.000000</td>\n      <td>62159.000000</td>\n      <td>62159.000000</td>\n    </tr>\n    <tr>\n      <th>mean</th>\n      <td>-3.030068e+17</td>\n      <td>1.356420e+06</td>\n      <td>3.226154</td>\n      <td>4.507414e+18</td>\n      <td>0.213613</td>\n      <td>2.361444</td>\n      <td>0.152335</td>\n      <td>0.011792</td>\n      <td>1.144340</td>\n      <td>225.205146</td>\n      <td>...</td>\n      <td>0.149818</td>\n      <td>0.396918</td>\n      <td>0.165913</td>\n      <td>0.006882</td>\n      <td>0.033095</td>\n      <td>3023.574446</td>\n      <td>478.448725</td>\n      <td>357.088716</td>\n      <td>1498.912225</td>\n      <td>0.255265</td>\n    </tr>\n    <tr>\n      <th>std</th>\n      <td>5.337799e+18</td>\n      <td>1.377429e+06</td>\n      <td>1.171148</td>\n      <td>2.805723e+18</td>\n      <td>0.409860</td>\n      <td>1.346441</td>\n      <td>0.538139</td>\n      <td>0.118331</td>\n      <td>0.525562</td>\n      <td>454.173650</td>\n      <td>...</td>\n      <td>0.356897</td>\n      <td>0.489265</td>\n      <td>0.372007</td>\n      <td>0.082674</td>\n      <td>0.178887</td>\n      <td>1734.202611</td>\n      <td>277.855160</td>\n      <td>209.561400</td>\n      <td>906.683032</td>\n      <td>0.436013</td>\n    </tr>\n    <tr>\n      <th>min</th>\n      <td>-9.223194e+18</td>\n      <td>1.000000e+00</td>\n      <td>-1.000000</td>\n      <td>-9.096408e+18</td>\n      <td>0.000000</td>\n      <td>1.000000</td>\n      <td>0.000000</td>\n      <td>0.000000</td>\n      <td>1.000000</td>\n      <td>2.100000</td>\n      <td>...</td>\n      <td>0.000000</td>\n      <td>0.000000</td>\n      <td>0.000000</td>\n      <td>0.000000</td>\n      <td>0.000000</td>\n      <td>0.000000</td>\n      <td>0.000000</td>\n      <td>0.000000</td>\n      <td>0.000000</td>\n      <td>0.000000</td>\n    </tr>\n    <tr>\n      <th>25%</th>\n      <td>-4.923267e+18</td>\n      <td>2.562170e+05</td>\n      <td>3.000000</td>\n      <td>2.221377e+18</td>\n      <td>0.000000</td>\n      <td>2.000000</td>\n      <td>0.000000</td>\n      <td>0.000000</td>\n      <td>1.000000</td>\n      <td>51.915000</td>\n      <td>...</td>\n      <td>0.000000</td>\n      <td>0.000000</td>\n      <td>0.000000</td>\n      <td>0.000000</td>\n      <td>0.000000</td>\n      <td>1469.000000</td>\n      <td>253.000000</td>\n      <td>181.000000</td>\n      <td>608.000000</td>\n      <td>0.000000</td>\n    </tr>\n    <tr>\n      <th>50%</th>\n      <td>-5.896088e+17</td>\n      <td>8.097590e+05</td>\n      <td>3.000000</td>\n      <td>4.522951e+18</td>\n      <td>0.000000</td>\n      <td>2.000000</td>\n      <td>0.000000</td>\n      <td>0.000000</td>\n      <td>1.000000</td>\n      <td>111.350000</td>\n      <td>...</td>\n      <td>0.000000</td>\n      <td>0.000000</td>\n      <td>0.000000</td>\n      <td>0.000000</td>\n      <td>0.000000</td>\n      <td>3134.000000</td>\n      <td>480.000000</td>\n      <td>355.000000</td>\n      <td>1572.000000</td>\n      <td>0.000000</td>\n    </tr>\n    <tr>\n      <th>75%</th>\n      <td>4.311517e+18</td>\n      <td>2.318505e+06</td>\n      <td>4.000000</td>\n      <td>6.873213e+18</td>\n      <td>0.000000</td>\n      <td>2.000000</td>\n      <td>0.000000</td>\n      <td>0.000000</td>\n      <td>1.000000</td>\n      <td>250.290000</td>\n      <td>...</td>\n      <td>0.000000</td>\n      <td>1.000000</td>\n      <td>0.000000</td>\n      <td>0.000000</td>\n      <td>0.000000</td>\n      <td>4568.000000</td>\n      <td>739.000000</td>\n      <td>577.000000</td>\n      <td>2310.000000</td>\n      <td>1.000000</td>\n    </tr>\n    <tr>\n      <th>max</th>\n      <td>9.223338e+18</td>\n      <td>6.165986e+06</td>\n      <td>5.000000</td>\n      <td>9.223335e+18</td>\n      <td>1.000000</td>\n      <td>38.000000</td>\n      <td>10.000000</td>\n      <td>5.000000</td>\n      <td>9.000000</td>\n      <td>49566.160000</td>\n      <td>...</td>\n      <td>1.000000</td>\n      <td>1.000000</td>\n      <td>1.000000</td>\n      <td>1.000000</td>\n      <td>1.000000</td>\n      <td>5896.000000</td>\n      <td>937.000000</td>\n      <td>681.000000</td>\n      <td>2809.000000</td>\n      <td>1.000000</td>\n    </tr>\n  </tbody>\n</table>\n<p>8 rows × 22 columns</p>\n</div>"
     },
     "execution_count": 19,
     "metadata": {},
     "output_type": "execute_result"
    }
   ],
   "source": [
    "df.describe()"
   ],
   "metadata": {
    "collapsed": false,
    "pycharm": {
     "name": "#%%\n"
    }
   }
  },
  {
   "cell_type": "code",
   "execution_count": 20,
   "outputs": [
    {
     "name": "stdout",
     "output_type": "stream",
     "text": [
      "<class 'pandas.core.frame.DataFrame'>\n",
      "Int64Index: 62159 entries, 0 to 699\n",
      "Data columns (total 40 columns):\n",
      " #   Column                          Non-Null Count  Dtype  \n",
      "---  ------                          --------------  -----  \n",
      " 0   h_booking_id                    62159 non-null  int64  \n",
      " 1   booking_datetime                62159 non-null  object \n",
      " 2   checkin_date                    62159 non-null  object \n",
      " 3   checkout_date                   62159 non-null  object \n",
      " 4   hotel_id                        62159 non-null  int64  \n",
      " 5   hotel_country_code              62155 non-null  object \n",
      " 6   hotel_live_date                 62159 non-null  object \n",
      " 7   hotel_star_rating               62159 non-null  float64\n",
      " 8   accommadation_type_name         62159 non-null  object \n",
      " 9   charge_option                   62159 non-null  object \n",
      " 10  h_customer_id                   62159 non-null  int64  \n",
      " 11  customer_nationality            62159 non-null  object \n",
      " 12  guest_is_not_the_customer       62159 non-null  int64  \n",
      " 13  guest_nationality_country_name  62159 non-null  object \n",
      " 14  no_of_adults                    62159 non-null  int64  \n",
      " 15  no_of_children                  62159 non-null  int64  \n",
      " 16  no_of_extra_bed                 62159 non-null  int64  \n",
      " 17  no_of_room                      62159 non-null  int64  \n",
      " 18  origin_country_code             62157 non-null  object \n",
      " 19  language                        62159 non-null  object \n",
      " 20  original_selling_amount         62159 non-null  float64\n",
      " 21  original_payment_method         62159 non-null  object \n",
      " 22  original_payment_type           62159 non-null  object \n",
      " 23  original_payment_currency       62159 non-null  object \n",
      " 24  is_user_logged_in               62159 non-null  bool   \n",
      " 25  cancellation_policy_code        62159 non-null  object \n",
      " 26  is_first_booking                62159 non-null  bool   \n",
      " 27  request_nonesmoke               36471 non-null  float64\n",
      " 28  request_latecheckin             36471 non-null  float64\n",
      " 29  request_highfloor               36471 non-null  float64\n",
      " 30  request_largebed                36471 non-null  float64\n",
      " 31  request_twinbeds                36471 non-null  float64\n",
      " 32  request_airport                 36471 non-null  float64\n",
      " 33  request_earlycheckin            36471 non-null  float64\n",
      " 34  cancellation_datetime           58659 non-null  object \n",
      " 35  hotel_area_code                 62159 non-null  int64  \n",
      " 36  hotel_brand_code                16353 non-null  float64\n",
      " 37  hotel_chain_code                16829 non-null  float64\n",
      " 38  hotel_city_code                 62159 non-null  int64  \n",
      " 39  cancelled                       62159 non-null  int64  \n",
      "dtypes: bool(2), float64(11), int64(11), object(16)\n",
      "memory usage: 18.6+ MB\n"
     ]
    }
   ],
   "source": [
    "df.info()"
   ],
   "metadata": {
    "collapsed": false,
    "pycharm": {
     "name": "#%%\n"
    }
   }
  },
  {
   "cell_type": "code",
   "execution_count": 21,
   "outputs": [
    {
     "data": {
      "text/plain": "h_booking_id                      1.000000\nbooking_datetime                  0.857398\noriginal_selling_amount           0.507778\nhotel_id                          0.488441\nh_customer_id                     0.481394\nhotel_live_date                   0.335720\nhotel_area_code                   0.092408\nhotel_city_code                   0.044097\nhotel_brand_code                  0.014672\ncancellation_policy_code          0.014029\nhotel_chain_code                  0.010634\ncancellation_datetime             0.005711\ncheckin_date                      0.005615\ncheckout_date                     0.005438\nguest_nationality_country_name    0.002397\norigin_country_code               0.002333\ncustomer_nationality              0.002301\nhotel_country_code                0.002124\noriginal_payment_currency         0.000820\nlanguage                          0.000788\noriginal_payment_method           0.000579\naccommadation_type_name           0.000354\nno_of_adults                      0.000354\nhotel_star_rating                 0.000177\nno_of_children                    0.000177\nno_of_room                        0.000145\nno_of_extra_bed                   0.000097\ncharge_option                     0.000048\noriginal_payment_type             0.000048\nrequest_airport                   0.000032\nguest_is_not_the_customer         0.000032\nrequest_earlycheckin              0.000032\nrequest_largebed                  0.000032\nrequest_twinbeds                  0.000032\nrequest_highfloor                 0.000032\nrequest_latecheckin               0.000032\nrequest_nonesmoke                 0.000032\nis_first_booking                  0.000032\nis_user_logged_in                 0.000032\ncancelled                         0.000032\ndtype: float64"
     },
     "execution_count": 21,
     "metadata": {},
     "output_type": "execute_result"
    }
   ],
   "source": [
    "df.nunique().sort_values(ascending=False)/len(df)"
   ],
   "metadata": {
    "collapsed": false,
    "pycharm": {
     "name": "#%%\n"
    }
   }
  },
  {
   "cell_type": "code",
   "execution_count": 26,
   "outputs": [],
   "source": [
    "from numpy import dtype\n",
    "import os\n",
    "import plotly.express as px\n",
    "if not os.path.exists(\"data_challenge_images\"):\n",
    "    os.mkdir(\"data_challenge_images\")\n",
    "\n",
    "df.dropna().drop_duplicates()\n",
    "\n",
    "for c in df.columns:\n",
    "    if dtype(df[c]):\n",
    "        title = str(c) + \" vs cancelled\"\n",
    "        fig = px.histogram(df , x= c , color = \"cancelled\", histnorm = \"density\" ,  barmode='group', height=400 , title = title )\n",
    "        # fig.write_image(\"data_challenge_images/\" + str(c) +\".png\")\n",
    "        fig.show(\"browser\")\n",
    "\n"
   ],
   "metadata": {
    "collapsed": false,
    "pycharm": {
     "name": "#%%\n"
    }
   }
  },
  {
   "cell_type": "code",
   "execution_count": null,
   "outputs": [],
   "source": [
    "# df['unique_user'] = df['h_customer_id'].duplicated(keep = False)\n",
    "# temp = df[(df['unique_user'] == True) ]\n",
    "# temp.sort_values(by=\"h_customer_id\")\n",
    "# d = temp[temp[\"h_customer_id\"] == 2365463449144730063]\n",
    "# d.head()"
   ],
   "metadata": {
    "collapsed": false,
    "pycharm": {
     "name": "#%%\n"
    }
   }
  },
  {
   "cell_type": "code",
   "execution_count": null,
   "outputs": [],
   "source": [],
   "metadata": {
    "collapsed": false,
    "pycharm": {
     "name": "#%%\n"
    }
   }
  },
  {
   "cell_type": "code",
   "execution_count": null,
   "outputs": [],
   "source": [
    "\n",
    "\n"
   ],
   "metadata": {
    "collapsed": false,
    "pycharm": {
     "name": "#%%\n"
    }
   }
  },
  {
   "cell_type": "code",
   "execution_count": null,
   "outputs": [],
   "source": [],
   "metadata": {
    "collapsed": false,
    "pycharm": {
     "name": "#%%\n"
    }
   }
  },
  {
   "cell_type": "code",
   "execution_count": null,
   "outputs": [],
   "source": [],
   "metadata": {
    "collapsed": false,
    "pycharm": {
     "name": "#%%\n"
    }
   }
  }
 ],
 "metadata": {
  "kernelspec": {
   "display_name": "Python 3",
   "language": "python",
   "name": "python3"
  },
  "language_info": {
   "codemirror_mode": {
    "name": "ipython",
    "version": 2
   },
   "file_extension": ".py",
   "mimetype": "text/x-python",
   "name": "python",
   "nbconvert_exporter": "python",
   "pygments_lexer": "ipython2",
   "version": "2.7.6"
  }
 },
 "nbformat": 4,
 "nbformat_minor": 0
}